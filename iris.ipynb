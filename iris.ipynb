{
 "cells": [
  {
   "cell_type": "code",
   "execution_count": 1,
   "id": "480bd1d0-b9f2-4bd4-8fbe-6c5fa9bfd91e",
   "metadata": {},
   "outputs": [],
   "source": [
    "import pandas as pd\n",
    "import numpy as np"
   ]
  },
  {
   "cell_type": "markdown",
   "id": "90294d52-64f9-457b-98aa-5b852b433905",
   "metadata": {},
   "source": [
    "# Iris"
   ]
  },
  {
   "cell_type": "code",
   "execution_count": 2,
   "id": "ff9f6324-27d9-4580-9a14-02ee2d9aa4f9",
   "metadata": {},
   "outputs": [],
   "source": [
    "# df_iris_raw = pd.read_csv('input/Iris.csv', delimiter=',')\n",
    "# df_iris_raw.value_counts()\n",
    "# df_iris_raw.head(5)\n",
    "# print(df_iris_raw[\"Species\"].unique())"
   ]
  },
  {
   "cell_type": "markdown",
   "id": "e536696c-aefe-43f0-aaac-c90eecb4cbc8",
   "metadata": {},
   "source": [
    "# Cars"
   ]
  },
  {
   "cell_type": "code",
   "execution_count": 3,
   "id": "0b69fca8-4c15-4cea-9446-b4ba623dc08c",
   "metadata": {},
   "outputs": [
    {
     "data": {
      "text/html": [
       "<div>\n",
       "<style scoped>\n",
       "    .dataframe tbody tr th:only-of-type {\n",
       "        vertical-align: middle;\n",
       "    }\n",
       "\n",
       "    .dataframe tbody tr th {\n",
       "        vertical-align: top;\n",
       "    }\n",
       "\n",
       "    .dataframe thead th {\n",
       "        text-align: right;\n",
       "    }\n",
       "</style>\n",
       "<table border=\"1\" class=\"dataframe\">\n",
       "  <thead>\n",
       "    <tr style=\"text-align: right;\">\n",
       "      <th></th>\n",
       "      <th>stolen</th>\n",
       "      <th>data</th>\n",
       "    </tr>\n",
       "  </thead>\n",
       "  <tbody>\n",
       "    <tr>\n",
       "      <th>0</th>\n",
       "      <td>1</td>\n",
       "      <td>[red, sports, domestic]</td>\n",
       "    </tr>\n",
       "    <tr>\n",
       "      <th>1</th>\n",
       "      <td>0</td>\n",
       "      <td>[red, sports, domestic]</td>\n",
       "    </tr>\n",
       "    <tr>\n",
       "      <th>2</th>\n",
       "      <td>1</td>\n",
       "      <td>[red, sports, domestic]</td>\n",
       "    </tr>\n",
       "    <tr>\n",
       "      <th>3</th>\n",
       "      <td>0</td>\n",
       "      <td>[yellow, sports, domestic]</td>\n",
       "    </tr>\n",
       "    <tr>\n",
       "      <th>4</th>\n",
       "      <td>1</td>\n",
       "      <td>[yellow, sports, imported]</td>\n",
       "    </tr>\n",
       "  </tbody>\n",
       "</table>\n",
       "</div>"
      ],
      "text/plain": [
       "   stolen                        data\n",
       "0       1     [red, sports, domestic]\n",
       "1       0     [red, sports, domestic]\n",
       "2       1     [red, sports, domestic]\n",
       "3       0  [yellow, sports, domestic]\n",
       "4       1  [yellow, sports, imported]"
      ]
     },
     "execution_count": 3,
     "metadata": {},
     "output_type": "execute_result"
    }
   ],
   "source": [
    "train_data = [\n",
    "    [1, ['red', 'sports', 'domestic']],\n",
    "    [0, ['red', 'sports', 'domestic']],\n",
    "    [1, ['red', 'sports', 'domestic']],\n",
    "\n",
    "    [0, ['yellow', 'sports', 'domestic']],\n",
    "    [1, ['yellow', 'sports', 'imported']],\n",
    "    [0, ['yellow', 'suv', 'imported']],\n",
    "    [1, ['yellow', 'suv', 'imported']],\n",
    "    [0, ['yellow', 'suv', 'domestic']],\n",
    "\n",
    "    [0, ['red', 'suv', 'imported']],\n",
    "    [1, ['red', 'sports', 'imported']],\n",
    "]\n",
    "\n",
    "df = pd.DataFrame(list((train_data)), columns=['stolen', 'data'])\n",
    "df.head(5)"
   ]
  }
 ],
 "metadata": {
  "kernelspec": {
   "display_name": "Python 3 (ipykernel)",
   "language": "python",
   "name": "python3"
  },
  "language_info": {
   "codemirror_mode": {
    "name": "ipython",
    "version": 3
   },
   "file_extension": ".py",
   "mimetype": "text/x-python",
   "name": "python",
   "nbconvert_exporter": "python",
   "pygments_lexer": "ipython3",
   "version": "3.10.5"
  }
 },
 "nbformat": 4,
 "nbformat_minor": 5
}
