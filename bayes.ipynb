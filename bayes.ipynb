{
 "cells": [
  {
   "cell_type": "code",
   "execution_count": 1,
   "id": "a503dc3b-dfd6-4dd6-b307-58c44fd75423",
   "metadata": {
    "pycharm": {
     "name": "#%%\n"
    }
   },
   "outputs": [],
   "source": [
    "import pandas as pd\n",
    "import numpy as np\n",
    "import naive_bayes as nb"
   ]
  },
  {
   "cell_type": "markdown",
   "id": "8c978c9d-8824-436f-b690-9d094fcd99ed",
   "metadata": {},
   "source": [
    "## Иницилизация языковой библиотеки для работы с корнем"
   ]
  },
  {
   "cell_type": "code",
   "execution_count": 2,
   "id": "49f4ea8b-b17d-44b4-b3d1-69b1caeac9b9",
   "metadata": {},
   "outputs": [],
   "source": [
    "try:\n",
    "    from nltk.stem.snowball import SnowballStemmer\n",
    "    def get_stem(word,lang=None):\n",
    "        if lang is None:\n",
    "            lang = 'en'\n",
    "        if lang=='ru':\n",
    "            stemmer = SnowballStemmer('russian')\n",
    "        else:\n",
    "            stemmer = SnowballStemmer('english')\n",
    "        return stemmer.stem(word)\n",
    "except ModuleNotFoundError:\n",
    "    def get_stem(word,lang=None):\n",
    "        if lang is None:\n",
    "            lang = 'en'\n",
    "        return word\n",
    "        pass"
   ]
  },
  {
   "cell_type": "markdown",
   "id": "485351b9-74e4-4aca-8aad-fb3edbcc1e1c",
   "metadata": {
    "pycharm": {
     "name": "#%% md\n"
    },
    "tags": []
   },
   "source": [
    "# Байесовский классификатор Гаусса"
   ]
  },
  {
   "cell_type": "markdown",
   "id": "e73f2b44-0a9d-464b-97e4-04aab91def4c",
   "metadata": {
    "pycharm": {
     "name": "#%% md\n"
    }
   },
   "source": [
    "## Игра в гольф. Играть или не играть?"
   ]
  },
  {
   "cell_type": "code",
   "execution_count": 3,
   "id": "03d988b8-ec53-4583-a02c-fd5d255e10b4",
   "metadata": {
    "pycharm": {
     "name": "#%%\n"
    }
   },
   "outputs": [
    {
     "name": "stdout",
     "output_type": "stream",
     "text": [
      "```Когда будем играть в гольф?```\n",
      "Будем играть, когда влажность: [86, 96, 80, 65, 70, 80, 70, 90, 75] \n",
      "Не будем играть, когда влажность: [85, 90, 70, 95, 91] \n",
      "\n"
     ]
    }
   ],
   "source": [
    "nb_nd=nb.NaiveBayesGaussian()\n",
    "\n",
    "data_golf_humidity = {'yes': [86, 96, 80, 65, 70, 80, 70, 90, 75], 'no': [85, 90, 70, 95, 91]}\n",
    "# play golf\n",
    "print('```Когда будем играть в гольф?```')\n",
    "print(f'Будем играть, когда влажность: {data_golf_humidity[\"yes\"]} ')\n",
    "print(f'Не будем играть, когда влажность: {data_golf_humidity[\"no\"]} ')\n",
    "print()\n"
   ]
  },
  {
   "cell_type": "code",
   "execution_count": 4,
   "id": "85ac2dfb-f82c-48aa-8c21-f8cc89f59fad",
   "metadata": {
    "pycharm": {
     "name": "#%%\n"
    }
   },
   "outputs": [
    {
     "name": "stdout",
     "output_type": "stream",
     "text": [
      "Пороговое значение: 0.5\n",
      "\n",
      "Будем играть при влажности=74? Yes! (p: 0.65)\n",
      "\n",
      "Будем играть при влажности=80? Yes! (p: 0.54)\n",
      "\n",
      "Будем играть при влажности=81? Yes! (p: 0.52)\n",
      "\n",
      "Будем играть при влажности=82? No! (p: 0.5)\n",
      "\n",
      "Будем играть при влажности=83? No! (p: 0.48)\n",
      "\n"
     ]
    }
   ],
   "source": [
    "humidity = [74,80,81,82,83]\n",
    "threshold_value = 0.5\n",
    "print(f'Пороговое значение: {threshold_value}')\n",
    "print()\n",
    "\n",
    "for i in humidity:\n",
    "    print(f'Будем играть при влажности={i}? ',end='')\n",
    "    pr = nb_nd.probability(i, main_data=data_golf_humidity['yes'], \n",
    "                           opponent_data=data_golf_humidity['no'])\n",
    "    \n",
    "    if pr > threshold_value:\n",
    "        print(f'Yes!',end='')\n",
    "    else:\n",
    "        print(f'No!',end='')\n",
    "    print(f' (p: {pr})')\n",
    "    print()\n"
   ]
  },
  {
   "cell_type": "markdown",
   "id": "ed1f0a59-4a84-4f85-a813-22bd0df61c42",
   "metadata": {
    "pycharm": {
     "name": "#%% md\n"
    },
    "tags": []
   },
   "source": [
    "# Мультиномиальный Байесовский классификатор (для текстов)"
   ]
  },
  {
   "cell_type": "markdown",
   "id": "2e7d7ec6-cee0-4229-87f8-ca5e89f43310",
   "metadata": {
    "pycharm": {
     "name": "#%% md\n"
    },
    "tags": []
   },
   "source": [
    "## Коты/Собаки\n",
    "Проверим алгоритм на задаче из лекции, про котов и собак"
   ]
  },
  {
   "cell_type": "markdown",
   "id": "2541dd8d-59b7-4d70-86ef-18798a9660a3",
   "metadata": {
    "pycharm": {
     "name": "#%% md\n"
    }
   },
   "source": [
    "### Загрузка и подготовка данных"
   ]
  },
  {
   "cell_type": "code",
   "execution_count": 5,
   "id": "0facf168-0291-4467-bf15-604383bda255",
   "metadata": {
    "pycharm": {
     "name": "#%%\n"
    }
   },
   "outputs": [],
   "source": [
    "cats_dogs = nb.NaiveBayesMultinomial()\n",
    "\n",
    "cats_dogs.stem_func = get_stem\n",
    "cats_dogs.stem_enable = True\n",
    "cats_dogs.stem_lang = 'ru'\n",
    "cats_dogs.set_title('Коты', 'Собаки')\n",
    "\n",
    "train_text = [\n",
    "    'Кот бежит к будке и говорит мяу.',\n",
    "    'Белого кота и чёрного кота несут в котоноске.',\n",
    "    'Большой кот и маленький кот поймали мышь.',\n",
    "    \n",
    "    'Собака из будки смотрит на кота.',\n",
    "    'Собака залезла не в свою будку, а в чужую будку.',\n",
    "]\n",
    "train_class = [1, 1, 1, 0, 0]\n",
    "\n",
    "test_text = 'Белый кот, чёрный кот и рыжий кот идут мимо будки собаки'\n",
    "\n",
    "df = pd.DataFrame(list(zip( train_class,train_text)),columns=['class1', 'text'])\n",
    "df_test = pd.DataFrame(list(zip([1], [test_text])),columns=['class1', 'text'])\n",
    "\n"
   ]
  },
  {
   "cell_type": "code",
   "execution_count": 6,
   "id": "e34f2437-942b-4b99-b61f-4308ccec19f8",
   "metadata": {
    "pycharm": {
     "name": "#%%\n"
    }
   },
   "outputs": [
    {
     "name": "stdout",
     "output_type": "stream",
     "text": [
      "Данные для расчета: Коты: 3, Собаки: 2\n",
      "Данные для проверки: Коты: 1, Собаки: 0\n"
     ]
    }
   ],
   "source": [
    "cats_dogs.load_stop_words('input/stopwords_ru.txt')\n",
    "\n",
    "count_all, count_cats, count_dogs = cats_dogs.calculate_counters(df=df, column='class1')\n",
    "\n",
    "print(f'Данные для расчета: {cats_dogs.class_title[cats_dogs.index_class1]}: {count_cats}, {cats_dogs.class_title[cats_dogs.index_class2]}: {count_dogs}')\n",
    "print('Данные для проверки: {0}: {1}, {2}: {3}'.format(\n",
    "    cats_dogs.class_title[cats_dogs.index_class1],\n",
    "    df_test['class1'].loc[df_test['class1'] == 1].count(),\n",
    "    cats_dogs.class_title[cats_dogs.index_class2],\n",
    "    df_test['class1'].loc[df_test['class1'] == 0].count()\n",
    "))\n",
    "\n"
   ]
  },
  {
   "cell_type": "markdown",
   "id": "ea5d37df-1359-4d75-ba9e-479ca54afdb4",
   "metadata": {
    "pycharm": {
     "name": "#%% md\n"
    }
   },
   "source": [
    "### Подсчет слов"
   ]
  },
  {
   "cell_type": "code",
   "execution_count": 7,
   "id": "9af7a75d-30a3-40fd-bf28-2dbbc278fd30",
   "metadata": {
    "pycharm": {
     "name": "#%%\n"
    }
   },
   "outputs": [
    {
     "name": "stdout",
     "output_type": "stream",
     "text": [
      "Всего слов: 26, без стоп-слов: 19\n"
     ]
    }
   ],
   "source": [
    "cats_dogs.train(df=df)\n",
    "print('Всего слов: {0}, без стоп-слов: {1}'.format(len(cats_dogs.words_all), len(cats_dogs.words_without_stop)))"
   ]
  },
  {
   "cell_type": "code",
   "execution_count": 8,
   "id": "f79eca69-5391-4b53-9708-6e3900453313",
   "metadata": {},
   "outputs": [
    {
     "name": "stdout",
     "output_type": "stream",
     "text": [
      "defaultdict(<function NaiveBayesMultinomial.train.<locals>.<lambda> at 0x7f14926d3e20>, {'кот': [5, 1], 'беж': [1, 0], 'будк': [1, 3], 'говор': [1, 0], 'мя': [1, 0], 'бел': [1, 0], 'ч': [1, 0], 'рног': [1, 0], 'несут': [1, 0], 'котоноск': [1, 0], 'больш': [1, 0], 'маленьк': [1, 0], 'пойма': [1, 0], 'мыш': [1, 0], 'собак': [0, 2], 'смотр': [0, 1], 'залезл': [0, 1], 'сво': [0, 1], 'чуж': [0, 1]})\n"
     ]
    }
   ],
   "source": [
    "print(cats_dogs.words_without_stop)"
   ]
  },
  {
   "cell_type": "markdown",
   "id": "3b9ca632-9df4-423e-83f4-8d9e6d8d408e",
   "metadata": {
    "pycharm": {
     "name": "#%% md\n"
    }
   },
   "source": [
    "### Проверка на тестовой выборке"
   ]
  },
  {
   "cell_type": "code",
   "execution_count": 9,
   "id": "c832f69e-948b-4b52-a986-f2bd9e3343a6",
   "metadata": {},
   "outputs": [
    {
     "name": "stdout",
     "output_type": "stream",
     "text": [
      "Текст \"Белый кот, чёрный кот и рыжий кот идут мимо будки собаки\"\n"
     ]
    }
   ],
   "source": [
    "print('Текст \"{0}\"'.format(df_test.iloc[0]['text']))"
   ]
  },
  {
   "cell_type": "markdown",
   "id": "70756a7f-9ab6-4af5-8963-75b09d491d9b",
   "metadata": {
    "pycharm": {
     "name": "#%% md\n"
    }
   },
   "source": [
    "#### с учетом стоп слов"
   ]
  },
  {
   "cell_type": "code",
   "execution_count": 10,
   "id": "6049a45c-9eff-43a3-a1fe-492b62deffa3",
   "metadata": {
    "pycharm": {
     "name": "#%%\n"
    }
   },
   "outputs": [
    {
     "name": "stdout",
     "output_type": "stream",
     "text": [
      "### С учетом стоп слов ###\n",
      "входит в группу \"Коты\" с вероятностью 0.95\n",
      "входит в группу \"Собаки\" с вероятностью 0.05\n"
     ]
    }
   ],
   "source": [
    "print('### С учетом стоп слов ###')\n",
    "print('входит в группу \"{0}\" с вероятностью {1}'.format(\n",
    "    cats_dogs.class_title[cats_dogs.index_class1],\n",
    "    cats_dogs.probability(text=df_test.iloc[0]['text'], mode=cats_dogs.index_class1,\n",
    "                          words=cats_dogs.words_without_stop)\n",
    "))\n",
    "print('входит в группу \"{0}\" с вероятностью {1}'.format(\n",
    "    cats_dogs.class_title[cats_dogs.index_class2],\n",
    "    cats_dogs.probability(text=df_test.iloc[0]['text'], mode=cats_dogs.index_class2,\n",
    "                          words=cats_dogs.words_without_stop)\n",
    "))"
   ]
  },
  {
   "cell_type": "markdown",
   "id": "a7f49760-8504-44a9-b113-b87ef51fd792",
   "metadata": {
    "pycharm": {
     "name": "#%% md\n"
    }
   },
   "source": [
    "#### без учета стоп слов"
   ]
  },
  {
   "cell_type": "code",
   "execution_count": 11,
   "id": "6ca6ea39-c039-4746-9655-fff91155ccdb",
   "metadata": {
    "pycharm": {
     "name": "#%%\n"
    }
   },
   "outputs": [
    {
     "name": "stdout",
     "output_type": "stream",
     "text": [
      "### Без учета стоп слов ###\n",
      "входит в группу \"Коты\" с вероятностью 0.99\n",
      "входит в группу \"Собаки\" с вероятностью 0.01\n"
     ]
    }
   ],
   "source": [
    "print('### Без учета стоп слов ###')\n",
    "print('входит в группу \"{0}\" с вероятностью {1}'.format(\n",
    "    cats_dogs.class_title[cats_dogs.index_class1],\n",
    "    cats_dogs.probability(text=df_test.iloc[0]['text'], mode=cats_dogs.index_class1,\n",
    "                          words=cats_dogs.words_all)\n",
    "))\n",
    "print('входит в группу \"{0}\" с вероятностью {1}'.format(\n",
    "    cats_dogs.class_title[cats_dogs.index_class2],\n",
    "    cats_dogs.probability(text=df_test.iloc[0]['text'], mode=cats_dogs.index_class2,\n",
    "                          words=cats_dogs.words_all)\n",
    "))"
   ]
  },
  {
   "cell_type": "markdown",
   "id": "3592ef16-707d-4e7c-8014-e9cad5549a64",
   "metadata": {
    "pycharm": {
     "name": "#%% md\n"
    },
    "tags": []
   },
   "source": [
    "## Spam/Ham"
   ]
  },
  {
   "cell_type": "markdown",
   "id": "ba8796d3-d1c4-4b80-a75f-023ccb876ce7",
   "metadata": {
    "pycharm": {
     "name": "#%% md\n"
    }
   },
   "source": [
    "### Загрузка и подготовка данных"
   ]
  },
  {
   "cell_type": "code",
   "execution_count": 12,
   "id": "3e5c6353-ce5c-4ee6-87d5-63f0dfffb0c1",
   "metadata": {
    "pycharm": {
     "name": "#%%\n"
    }
   },
   "outputs": [],
   "source": [
    "spam_ham = nb.NaiveBayesMultinomial()\n",
    "spam_ham.stem_func = get_stem\n",
    "spam_ham.stem_enable = True\n",
    "spam_ham.stem_lang = 'en'\n",
    "\n",
    "spam_ham.set_title('Spam', 'Ham')\n",
    "\n",
    "fraction_test = 0.2\n",
    "\n",
    "df_raw = pd.read_csv('input/SMSSpamCollection', delimiter='\\t', header=None, names=['class1', 'text'])\n",
    "df_raw['class1'] = np.where(df_raw['class1'] == \"spam\", 1, 0)\n",
    "\n",
    "df_test = pd.concat([\n",
    "    df_raw.loc[df_raw['class1'] == 1].sample(frac=fraction_test, random_state=12345),\n",
    "    df_raw.loc[df_raw['class1'] == 0].sample(frac=fraction_test, random_state=12345)\n",
    "])\n",
    "df = df_raw.drop(df_test.index)"
   ]
  },
  {
   "cell_type": "code",
   "execution_count": 13,
   "id": "3cb2adee-88b3-46e0-8813-5fa3b7e0e68d",
   "metadata": {
    "pycharm": {
     "name": "#%%\n"
    }
   },
   "outputs": [
    {
     "name": "stdout",
     "output_type": "stream",
     "text": [
      "Данные для расчета: Spam: 598, Ham: 3860\n",
      "Данные для проверки: Spam: 149, Ham: 965\n"
     ]
    }
   ],
   "source": [
    "spam_ham.load_stop_words('input/stopwords_en.txt')\n",
    "count_all, count_spam, count_ham = spam_ham.calculate_counters(df=df, column='class1')\n",
    "\n",
    "print(f'Данные для расчета: {spam_ham.class_title[spam_ham.index_class1]}: {count_spam}, {spam_ham.class_title[spam_ham.index_class2]}: {count_ham}')\n",
    "print('Данные для проверки: {0}: {1}, {2}: {3}'.format(\n",
    "    spam_ham.class_title[spam_ham.index_class1],\n",
    "    df_test['class1'].loc[df_test['class1'] == 1].count(),\n",
    "    spam_ham.class_title[spam_ham.index_class2],\n",
    "    df_test['class1'].loc[df_test['class1'] == 0].count()\n",
    "))\n"
   ]
  },
  {
   "cell_type": "markdown",
   "id": "6d012c19-5579-46e8-b21c-0d4eae88521c",
   "metadata": {
    "pycharm": {
     "name": "#%% md\n"
    }
   },
   "source": [
    "### Подсчет слов"
   ]
  },
  {
   "cell_type": "code",
   "execution_count": 14,
   "id": "f13335e9-5167-428c-a84e-7cea04a961e7",
   "metadata": {
    "pycharm": {
     "name": "#%%\n"
    }
   },
   "outputs": [
    {
     "name": "stdout",
     "output_type": "stream",
     "text": [
      "All - 5744, without stop words - 5192\n"
     ]
    }
   ],
   "source": [
    "spam_ham.train(df=df)\n",
    "\n",
    "print('All - {0}, without stop words - {1}'.format(len(spam_ham.words_all), len(spam_ham.words_without_stop)))"
   ]
  },
  {
   "cell_type": "markdown",
   "id": "3a2eb107-d556-4ce1-a23e-16ec50477ed6",
   "metadata": {
    "pycharm": {
     "name": "#%% md\n"
    }
   },
   "source": [
    "### Проверка на тестовой выборке"
   ]
  },
  {
   "cell_type": "markdown",
   "id": "03b4218b-d986-4728-a1c1-0fb04f17d95c",
   "metadata": {
    "pycharm": {
     "name": "#%% md\n"
    }
   },
   "source": [
    "#### с учетом стоп слов"
   ]
  },
  {
   "cell_type": "code",
   "execution_count": 15,
   "id": "3e97fe7f-aa0f-45eb-bf8c-76561d587e35",
   "metadata": {
    "pycharm": {
     "name": "#%%\n"
    }
   },
   "outputs": [
    {
     "name": "stdout",
     "output_type": "stream",
     "text": [
      "Результат:\n",
      "Тип Spam: попаданий (130), ошибок(7)\n",
      "Тип Ham: попаданий (958), ошибок(19)\n",
      "Всего, попаданий: 97.67%\n",
      "\n"
     ]
    }
   ],
   "source": [
    "### test data process\n",
    "cnt_good, cnt_bad = spam_ham.test_classifier(\n",
    "    df_check=df_test,\n",
    "    words=spam_ham.words_without_stop,\n",
    "    debug=False\n",
    ")\n",
    "spam_ham.print_result(cnt_good, cnt_bad)"
   ]
  },
  {
   "cell_type": "markdown",
   "id": "bcd43994-03f4-4f68-acf8-d468eb4ea638",
   "metadata": {
    "pycharm": {
     "name": "#%% md\n"
    },
    "tags": []
   },
   "source": [
    "#### без учета стоп слов"
   ]
  },
  {
   "cell_type": "code",
   "execution_count": 16,
   "id": "b5f0a46a-cb79-4376-a8fb-ad29d8ab450a",
   "metadata": {
    "pycharm": {
     "name": "#%%\n"
    }
   },
   "outputs": [
    {
     "name": "stdout",
     "output_type": "stream",
     "text": [
      "Результат:\n",
      "Тип Spam: попаданий (110), ошибок(0)\n",
      "Тип Ham: попаданий (965), ошибок(39)\n",
      "Всего, попаданий: 96.5%\n",
      "\n"
     ]
    }
   ],
   "source": [
    "### test data process\n",
    "cnt_good, cnt_bad = spam_ham.test_classifier(\n",
    "    df_check=df_test,\n",
    "    words=spam_ham.words_all,\n",
    "    debug=False\n",
    ")\n",
    "spam_ham.print_result(cnt_good, cnt_bad)"
   ]
  },
  {
   "cell_type": "markdown",
   "id": "24022c4d-bd33-484f-9353-42ce8a384940",
   "metadata": {},
   "source": [
    "# Категориальный классификатор"
   ]
  },
  {
   "cell_type": "markdown",
   "id": "9c66462c-0a05-4dce-9712-1b4e15f43a30",
   "metadata": {
    "tags": []
   },
   "source": [
    "## Угон авто"
   ]
  },
  {
   "cell_type": "markdown",
   "id": "c58f1997-bff3-434b-bf2f-e014b950d191",
   "metadata": {},
   "source": [
    "### Загрузка и подготовка данных"
   ]
  },
  {
   "cell_type": "code",
   "execution_count": 17,
   "id": "ac96a0c7-2905-4d25-aa4f-73c8d198f1e9",
   "metadata": {},
   "outputs": [
    {
     "name": "stdout",
     "output_type": "stream",
     "text": [
      "        цвет         тип страна_производства угоняется\n",
      "0    красный  спортивный       отечественный        да\n",
      "1    красный  спортивный       отечественный       нет\n",
      "2    красный  спортивный       отечественный        да\n",
      "3  оранжевый  спортивный       отечественный       нет\n",
      "4  оранжевый  спортивный           импортный        да\n"
     ]
    }
   ],
   "source": [
    "stolen_cars = nb.NaiveBayesCategorical()\n",
    "\n",
    "data_train = [\n",
    "    ['красный', 'спортивный', 'отечественный', 1],\n",
    "    ['красный', 'спортивный', 'отечественный', 0],\n",
    "    ['красный', 'спортивный', 'отечественный', 1],\n",
    "    ['оранжевый', 'спортивный', 'отечественный', 0],\n",
    "    ['оранжевый', 'спортивный', 'импортный', 1],\n",
    "    ['оранжевый', 'внедорожник', 'импортный', 0],\n",
    "    ['оранжевый', 'внедорожник', 'импортный', 1],\n",
    "    ['оранжевый', 'внедорожник', 'отечественный', 0],\n",
    "    ['красный', 'внедорожник', 'импортный', 0],\n",
    "    ['красный', 'спортивный', 'импортный', 1],\n",
    "]\n",
    "columns_train=['цвет', 'тип', 'страна_производства', 'угоняется']\n",
    "\n",
    "data_check = {'цвет': 'красный', 'тип': 'внедорожник', 'страна_производства': 'отечественный'}\n",
    "\n",
    "## prepare\n",
    "df_train = pd.DataFrame(list(data_train), columns=columns_train)\n",
    "df_train['угоняется'] = np.where(df_train['угоняется'] == 1, 'да', 'нет')\n",
    "####\n",
    "\n",
    "print(df_train.head(5))"
   ]
  },
  {
   "cell_type": "code",
   "execution_count": 18,
   "id": "9e601950-1cc1-4332-bfc2-73d7272c5cb6",
   "metadata": {},
   "outputs": [
    {
     "name": "stdout",
     "output_type": "stream",
     "text": [
      "Таблица правдоподобия\n",
      "{'да': {'цвет': {'_cnt_': 5, '_data_': {'красный': 3, 'оранжевый': 2}}, 'тип': {'_cnt_': 5, '_data_': {'спортивный': 4, 'внедорожник': 1}}, 'страна_производства': {'_cnt_': 5, '_data_': {'отечественный': 2, 'импортный': 3}}}, 'нет': {'цвет': {'_cnt_': 5, '_data_': {'красный': 2, 'оранжевый': 3}}, 'тип': {'_cnt_': 5, '_data_': {'спортивный': 2, 'внедорожник': 3}}, 'страна_производства': {'_cnt_': 5, '_data_': {'отечественный': 3, 'импортный': 2}}}}\n",
      "\n"
     ]
    }
   ],
   "source": [
    "stolen_cars.train(df=df_train, class_column='угоняется')\n",
    "print('Таблица правдоподобия')\n",
    "print(stolen_cars.get_model())\n",
    "print()"
   ]
  },
  {
   "cell_type": "markdown",
   "id": "374286d7-d498-4e72-8836-36a75427de58",
   "metadata": {},
   "source": [
    "### Проверка"
   ]
  },
  {
   "cell_type": "code",
   "execution_count": 19,
   "id": "1b03400a-787e-4030-b079-2331e1018159",
   "metadata": {},
   "outputs": [
    {
     "name": "stdout",
     "output_type": "stream",
     "text": [
      "Угоняется? {'цвет': 'красный', 'тип': 'внедорожник', 'страна_производства': 'отечественный'}\n",
      "нет: 0.144\n",
      "\n",
      "probability of `угоняется` : {'да': 0.048, 'нет': 0.144}\n"
     ]
    }
   ],
   "source": [
    "p = stolen_cars.probability(data_check=data_check)\n",
    "print(f'{p[\"answer\"].capitalize()}? {data_check}')\n",
    "\n",
    "answer = {'title': '', 'p': 0}\n",
    "for i in p['probability']:\n",
    "    if answer['title'] == '' or p['probability'][i] >= answer['p']:\n",
    "        answer['title'] = i\n",
    "        answer['p'] = p['probability'][i]\n",
    "print('{0}: {1}'.format(answer['title'], answer['p']))\n",
    "\n",
    "print()\n",
    "print('probability of `{0}` : {1}'.format(p[\"answer\"],p['probability']))"
   ]
  },
  {
   "cell_type": "markdown",
   "id": "1e14a701-8ad2-4a84-b46e-d5caf4244a9f",
   "metadata": {},
   "source": [
    "## Цветы Ирисы"
   ]
  },
  {
   "cell_type": "markdown",
   "id": "d1e2c838-488a-4764-aaa8-e8f3371ccbe9",
   "metadata": {},
   "source": [
    "### Загрузка и подготовка данных"
   ]
  },
  {
   "cell_type": "code",
   "execution_count": 20,
   "id": "216dc22c-cc90-4e94-8c24-3060df7645ab",
   "metadata": {},
   "outputs": [
    {
     "name": "stdout",
     "output_type": "stream",
     "text": [
      "Данные для расчета: 90\n",
      "Данные для проверки: 60\n"
     ]
    }
   ],
   "source": [
    "iris = nb.NaiveBayesCategorical()\n",
    "\n",
    "\n",
    "fraction_test = 0.4\n",
    "\n",
    "df_iris_raw = pd.read_csv('input/Iris.csv', delimiter=',')\n",
    "df_iris_raw=df_iris_raw.drop(['Id'], axis=1)\n",
    "\n",
    "df_iris_raw['SepalLengthCm'] = df_iris_raw['SepalLengthCm'].fillna(0)\n",
    "df_iris_raw['SepalWidthCm'] = df_iris_raw['SepalWidthCm'].fillna(0)\n",
    "df_iris_raw['PetalLengthCm'] = df_iris_raw['PetalLengthCm'].fillna(0)\n",
    "df_iris_raw['PetalWidthCm'] = df_iris_raw['PetalWidthCm'].fillna(0)\n",
    "\n",
    "df_iris_raw.head(5)\n",
    "\n",
    "df_iris_test = pd.concat([\n",
    "    df_iris_raw.loc[df_iris_raw['Species'] == 'Iris-setosa'].sample(frac=fraction_test, random_state=12345),\n",
    "    df_iris_raw.loc[df_iris_raw['Species'] == 'Iris-versicolor'].sample(frac=fraction_test, random_state=12345),\n",
    "    df_iris_raw.loc[df_iris_raw['Species'] == 'Iris-virginica'].sample(frac=fraction_test, random_state=12345),\n",
    "])\n",
    "\n",
    "df_iris_train = df_iris_raw.drop(df_iris_test.index)\n",
    "\n",
    "print(f'Данные для расчета: {len(df_iris_train)}')\n",
    "print(f'Данные для проверки: {len(df_iris_test)}')\n"
   ]
  },
  {
   "cell_type": "code",
   "execution_count": 21,
   "id": "0cee2985-10f6-480a-b50b-1f574a0469f3",
   "metadata": {},
   "outputs": [],
   "source": [
    "iris.train(df=df_iris_train, class_column='Species')\n",
    "# print('Таблица правдоподобия')\n",
    "# print(iris.get_model())\n",
    "# print()"
   ]
  },
  {
   "cell_type": "markdown",
   "id": "420958b7-5526-42f2-8865-4fda5ccbbe0c",
   "metadata": {},
   "source": [
    "### Проверка на тестовой выборке"
   ]
  },
  {
   "cell_type": "code",
   "execution_count": 22,
   "id": "06d11733-1c34-49ac-af5d-7093c871439b",
   "metadata": {},
   "outputs": [
    {
     "name": "stdout",
     "output_type": "stream",
     "text": [
      "Попаданий: 54, ошибок 6\n",
      "Точность 90%\n"
     ]
    }
   ],
   "source": [
    "test_count = {'ok': 0, 'error': 0}\n",
    "for index, row in df_iris_test.iterrows():\n",
    "\n",
    "    reference = row['Species']\n",
    "    data_check = {\n",
    "        'SepalLengthCm': row['SepalLengthCm'],\n",
    "        'SepalWidthCm': row['SepalWidthCm'],\n",
    "        'PetalLengthCm': row['PetalLengthCm'],\n",
    "        'PetalWidthCm': row['PetalWidthCm']\n",
    "    }\n",
    "    p = iris.probability(data_check=data_check)\n",
    "    \n",
    "\n",
    "    answer = {'title': '', 'p': 0}\n",
    "    for i in p['probability']:\n",
    "        if answer['title'] == '' or p['probability'][i] >= answer['p']:\n",
    "            answer['title'] = i\n",
    "            answer['p'] = p['probability'][i]\n",
    "    # print(f'{p[\"answer\"].capitalize()}? {data_check}')\n",
    "    # print('{0}: Эталон: {1}'.format(answer['title'], reference))\n",
    "    # print()\n",
    "    if answer['title'] == reference:\n",
    "        test_count['ok'] += 1\n",
    "    else:\n",
    "        test_count['error'] += 1\n",
    "print('Попаданий: {0}, ошибок {1}'.format(test_count['ok'],test_count['error']))\n",
    "print('Точность {0}%'.format(round(test_count['ok']*100/(test_count['ok']+test_count['error']))))"
   ]
  }
 ],
 "metadata": {
  "kernelspec": {
   "display_name": "Python 3 (ipykernel)",
   "language": "python",
   "name": "python3"
  },
  "language_info": {
   "codemirror_mode": {
    "name": "ipython",
    "version": 3
   },
   "file_extension": ".py",
   "mimetype": "text/x-python",
   "name": "python",
   "nbconvert_exporter": "python",
   "pygments_lexer": "ipython3",
   "version": "3.10.5"
  }
 },
 "nbformat": 4,
 "nbformat_minor": 5
}
